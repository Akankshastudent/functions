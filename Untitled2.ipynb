{
  "nbformat": 4,
  "nbformat_minor": 0,
  "metadata": {
    "colab": {
      "provenance": []
    },
    "kernelspec": {
      "name": "python3",
      "display_name": "Python 3"
    },
    "language_info": {
      "name": "python"
    }
  },
  "cells": [
    {
      "cell_type": "markdown",
      "source": [
        "# ** What is the difference between a function and a method in Python?**\n",
        "  Function\n",
        "  A function is a standardies block of code designed to perform a specific task.\n",
        "  in function their are need to write iterator in code.\n",
        "  Functions are called by their name, and they can take arguments (inputs) and optionally return values.\n",
        "Example:\n",
        "    def your(name):\n",
        "        print(f\"Hello, {name}!\")\n",
        "\n",
        "Methods:\n",
        "A method is a function that is associated with a class or object.Methods are called on an object using the dot notation (e.g., object.method()), and they can access and manipulate the data within that object.\n",
        "Example:\n",
        "    class student:\n",
        "        def __init__(self, name):\n",
        "            self.name = name\n",
        "\n",
        "        def eat(self):\n",
        "            print(f\"{self.name} says dilicious!\")\n",
        "in simple way the method is associate with the class or object\n",
        "and function did not bound with class and method            "
      ],
      "metadata": {
        "id": "x_lq_nH9jEIY"
      }
    },
    {
      "cell_type": "markdown",
      "source": [
        "# que. Explain the concept of function arguments and parameters in Python.\n",
        "arguments\n",
        "Placeholder in function definition\n",
        " placement Inside function definition parentheses\n",
        "\n",
        "ex.\n",
        "    def my_function(parameter1, parameter2):\n",
        "parameters\n",
        "Value passed to the function\n",
        "placement inside function call parentheses\n",
        "\n",
        "Example\n",
        "    my_function(argument1, argument2)"
      ],
      "metadata": {
        "id": "Cu53PS8rlN5n"
      }
    },
    {
      "cell_type": "markdown",
      "source": [
        "# What are the different ways to define and call a function in Python?\n",
        "functions are already inbuild in python memory.\n",
        "you call a function by simply writing its name followed by parentheses, potentially with arguments.\n",
        "\n",
        "    def function_name(arg1, arg2):\n",
        "    return result\n",
        "    function_name(arg value)\n",
        "\n",
        "\n"
      ],
      "metadata": {
        "id": "8tQnHaI6n3lu"
      }
    },
    {
      "cell_type": "markdown",
      "source": [
        "#What is the purpose of the `return` statement in a Python function?\n",
        " return statement gives you and output.\n",
        " at the end of the code it return the output and stop the code.\n",
        "\n",
        "    def sum(arg):\n",
        "    s=0\n",
        "    for i in arg:\n",
        "    s=s+i\n",
        "    return s"
      ],
      "metadata": {
        "id": "3G0Ltn8Apatn"
      }
    },
    {
      "cell_type": "markdown",
      "source": [
        "# What are iterators in Python and how do they differ from iterables?\n",
        "iterables are the any python object or a functions or data structure that is capable to retuening its members one at a time called as iterables  and it is always written in for loop or while loop\n",
        "iterator is an only one object define the functions one by one.\n",
        "  \n",
        "    s=\"pwskills\"\n",
        "    for i in (s)\n",
        "    print(i)\n",
        "    iter(s) #it is a terarator"
      ],
      "metadata": {
        "id": "IcLb2JTfqNX4"
      }
    },
    {
      "cell_type": "markdown",
      "source": [
        "# Explain the concept of generators in Python and how they are defined.\n",
        "ganarators are the functions which make code suitable and in less memory\n",
        "when we write a normal code at the end we wrote return to get output and in generator we write yeild at the end to get output.\n",
        "  \n",
        "    def square_n0_generator(n)\n",
        "    for i in range(n):\n",
        "    yeild i**2\n",
        "    square_no_generator(10)\n",
        " yeild is creating a similar object to iterator object.   \n",
        "     "
      ],
      "metadata": {
        "id": "rTpICjEA8oHF"
      }
    },
    {
      "cell_type": "markdown",
      "source": [
        "# What are the advantages of using generators over regular functions?\n",
        "when you used the generator over the regular functions the memory storage will less for the code\n",
        "code is run one by one in less spam of time.execution time will be less .\n",
        "with the help to this generate function we get result one by one instead of one go.\n",
        "    \n",
        "    dif(fib(n)):\n",
        "    a=0\n",
        "    b=1\n",
        "    for i in range (n)\n",
        "    yeild a\n",
        "    a,b=b,a+b\n",
        "    f=fib(10)\n",
        "    print(f)\n"
      ],
      "metadata": {
        "id": "3tjIP6s4_iRH"
      }
    },
    {
      "cell_type": "markdown",
      "source": [
        "# What is a lambda function in Python and when is it typically used?\n",
        " lambda is a small anonomus function which we used to write code.we dont have to retuen a statement without define the function\n",
        "    example\n",
        "     \n",
        "    lambda n:n if n<=1 else fib(n-1)+fib(n+1)\n",
        "    [fib(i) for i in range (10)]\n",
        "\n",
        "\n"
      ],
      "metadata": {
        "id": "voOa62mnCiSi"
      }
    },
    {
      "cell_type": "markdown",
      "source": [
        "# 9. Explain the purpose and usage of the `map()` function in Python.\n",
        "executes a specified function for each of the items of the iterable\n",
        "syntex>> map(function,iterable)\n",
        "\n",
        " ex\n",
        "\n",
        "    l=[1 2 3 4 5 ]\n",
        "    def add(x):\n",
        "    return x+10\n",
        "    list(map(add,l)\n",
        "    print(list)\n"
      ],
      "metadata": {
        "id": "JkAKiWVRHUUP"
      }
    },
    {
      "cell_type": "markdown",
      "source": [
        "# . What is the difference between `map()`, `reduce()`, and `filter()` functions in Python?\n",
        "the map() function applies the given function to all fun ction of an iterable(like a list)\n",
        " reduce() function reduce the code lines redused sequence to a single value\n",
        " from lest to right manner\n",
        "filter()the function returns an iterator for element of an iterable for which the specifird function return true.\n"
      ],
      "metadata": {
        "id": "Zjv0J-5tuoe5"
      }
    },
    {
      "cell_type": "markdown",
      "source": [
        "# Using pen & Paper write the internal mechanism for sum operation using  reduce function on this given\n",
        " list:[47,11,42,13];"
      ],
      "metadata": {
        "id": "SEMzEY8Gwsf4"
      }
    },
    {
      "cell_type": "code",
      "source": [
        " from functools import reduce\n",
        " l= [47, 11, 42, 13]\n",
        " sum = reduce(lambda x, y: x + y, l)\n",
        "\n",
        " print(sum)\n",
        "\n",
        "#i dont know how to insert image here i tried but it did not work so i write a code here only thank you for understating"
      ],
      "metadata": {
        "colab": {
          "base_uri": "https://localhost:8080/"
        },
        "id": "o1jmnYQo0Gxr",
        "outputId": "ba018a17-6789-4149-e50d-06fa6949295f"
      },
      "execution_count": 1,
      "outputs": [
        {
          "output_type": "stream",
          "name": "stdout",
          "text": [
            "113\n"
          ]
        }
      ]
    },
    {
      "cell_type": "code",
      "source": [
        "#Create a Python function that accepts a string and returns the reverse of that string.\n",
        "def reverse_str(s: str)->str:\n",
        "    return s[::-1]\n",
        "print(reverse_str(\"1234567\"))\n"
      ],
      "metadata": {
        "colab": {
          "base_uri": "https://localhost:8080/"
        },
        "id": "qcfHPcBZ-gbE",
        "outputId": "927ed4d8-fba1-4c17-d1fe-83584dd18dd2"
      },
      "execution_count": 2,
      "outputs": [
        {
          "output_type": "stream",
          "name": "stdout",
          "text": [
            "7654321\n"
          ]
        }
      ]
    },
    {
      "cell_type": "code",
      "source": [
        "# Write a Python function that takes a list of numbers as input and returns the sum of all even numbers in the list\n",
        "def sum_even_numbers(numbers):\n",
        "    total = 0\n",
        "    for num in numbers:\n",
        "       if num % 2 == 0:\n",
        "          total += num\n",
        "    return total\n",
        "\n",
        "arr=[1,2,3,4,5,6]\n",
        "ans=sum_even_numbers(arr)\n",
        "print(ans)\n"
      ],
      "metadata": {
        "colab": {
          "base_uri": "https://localhost:8080/"
        },
        "id": "LY2ZculU-qaA",
        "outputId": "06610bb3-0f4f-44fa-c18c-3ee5ca4e7077"
      },
      "execution_count": null,
      "outputs": [
        {
          "output_type": "stream",
          "name": "stdout",
          "text": [
            "12\n"
          ]
        }
      ]
    },
    {
      "cell_type": "code",
      "source": [
        "#Implement a Python function that takes a list of integers and returns a new list containing the squares of each number\n",
        "x=[1,2,3,4,5,6,7,8,9]\n",
        "square_number=list(map(lambda n: n ** 2,x))\n",
        "print(square_number)\n",
        "\n"
      ],
      "metadata": {
        "colab": {
          "base_uri": "https://localhost:8080/"
        },
        "id": "CNaW53a6_9bK",
        "outputId": "bb16d431-3aad-4d5f-f9c3-25a4b06fb3b5"
      },
      "execution_count": 21,
      "outputs": [
        {
          "output_type": "stream",
          "name": "stdout",
          "text": [
            "[1, 4, 9, 16, 25, 36, 49, 64, 81]\n"
          ]
        }
      ]
    },
    {
      "cell_type": "code",
      "source": [
        "#Write a Python function that checks if a given number is prime or not from 1 to 200.\n",
        "def prime_generator(start, end):\n",
        "    for num in range(start, end + 1):\n",
        "        if num > 1 and all(num % i != 0 for i in range(2, int(num ** 0.5) + 1)):\n",
        "            yield num\n",
        "prime_numbers = list(prime_generator(1, 200))\n",
        "print(prime_numbers)"
      ],
      "metadata": {
        "colab": {
          "base_uri": "https://localhost:8080/"
        },
        "id": "nusXPGfx3cJP",
        "outputId": "3827d834-68e4-4e73-f36e-39b315427b7a"
      },
      "execution_count": 24,
      "outputs": [
        {
          "output_type": "stream",
          "name": "stdout",
          "text": [
            "[2, 3, 5, 7, 11, 13, 17, 19, 23, 29, 31, 37, 41, 43, 47, 53, 59, 61, 67, 71, 73, 79, 83, 89, 97, 101, 103, 107, 109, 113, 127, 131, 137, 139, 149, 151, 157, 163, 167, 173, 179, 181, 191, 193, 197, 199]\n"
          ]
        }
      ]
    },
    {
      "cell_type": "code",
      "source": [
        "# Create an iterator class in Python that generates the Fibonacci sequence up to a specified number of terms.\n",
        "class FibiIterator:\n",
        "    def __init__(self, n):\n",
        "        self.n, self.a, self.b, self.count = n, 0, 1, 0\n",
        "\n",
        "    def __iter__(self):\n",
        "        return self\n",
        "\n",
        "    def __next__(self):\n",
        "        if self.count >= self.n:\n",
        "            raise StopIteration\n",
        "        self.a, self.b = self.b, self.a + self.b\n",
        "        self.count += 1\n",
        "        return self.a if self.count > 1 else 0\n",
        "print(list(FibiIterator(10)))\n"
      ],
      "metadata": {
        "colab": {
          "base_uri": "https://localhost:8080/"
        },
        "id": "wp8HhwG55NEN",
        "outputId": "ed6de0d0-c60b-453b-aeca-1d8239e63611"
      },
      "execution_count": 36,
      "outputs": [
        {
          "output_type": "stream",
          "name": "stdout",
          "text": [
            "[0, 1, 2, 3, 5, 8, 13, 21, 34, 55]\n"
          ]
        }
      ]
    },
    {
      "cell_type": "code",
      "source": [
        "#Write a generator function in Python that yields the powers of 2 up to a given exponent.\n",
        "def p(exponent):\n",
        "    for i in range(exponent + 1):\n",
        "        yield 2 ** i\n",
        "for power in p(5):\n",
        "    print(power)"
      ],
      "metadata": {
        "colab": {
          "base_uri": "https://localhost:8080/"
        },
        "id": "yqjK5pDR7BuB",
        "outputId": "2d8b5552-af02-40b4-c75f-30c8b1caee32"
      },
      "execution_count": 64,
      "outputs": [
        {
          "output_type": "stream",
          "name": "stdout",
          "text": [
            "1\n",
            "2\n",
            "4\n",
            "8\n",
            "16\n",
            "32\n"
          ]
        }
      ]
    },
    {
      "cell_type": "code",
      "source": [
        "#Implement a generator function that reads a file line by line and yields each line as a string.\n",
        "with open(\"example.txt\", \"w\") as file:\n",
        "    file.write(\"Hello, World!\\n\")\n",
        "    file.write(\"This is a test file.\\n\")\n",
        "    file.write(\"Reading line by line.\\n\")\n",
        "\n",
        "print(\"File created successfully!\")\n",
        "\n",
        "#for generator fnc to read file\n",
        "\n",
        "def read_file_line_by_line(filename):\n",
        "    with open(filename, 'r') as file:\n",
        "        for line in file:\n",
        "            yield line.strip()\n",
        "for line in read_file_line_by_line(\"example.txt\"):\n",
        "    print(line)\n"
      ],
      "metadata": {
        "colab": {
          "base_uri": "https://localhost:8080/"
        },
        "id": "8hTLTSoY7scC",
        "outputId": "52510610-dd76-432b-8176-377a5fcbc156"
      },
      "execution_count": 80,
      "outputs": [
        {
          "output_type": "stream",
          "name": "stdout",
          "text": [
            "File created successfully!\n",
            "Hello, World!\n",
            "This is a test file.\n",
            "Reading line by line.\n"
          ]
        }
      ]
    },
    {
      "cell_type": "code",
      "source": [
        "#Use a lambda function in Python to sort a list of tuples based on the second element of each tuple.\n",
        "data = [(1, 6), (4, 8), (2, 4), (5, 10)]\n",
        "sorted_data = sorted(data, key=lambda x: x[1])\n",
        "print(sorted_data)"
      ],
      "metadata": {
        "colab": {
          "base_uri": "https://localhost:8080/"
        },
        "id": "K5IFYEFa_Mf5",
        "outputId": "70bff6f2-0e41-4ac9-efd1-20a1c3d1e093"
      },
      "execution_count": 85,
      "outputs": [
        {
          "output_type": "stream",
          "name": "stdout",
          "text": [
            "[(2, 4), (1, 6), (4, 8), (5, 10)]\n"
          ]
        }
      ]
    },
    {
      "cell_type": "code",
      "source": [
        "#Write a Python program that uses `map()` to convert a list of temperatures from Celsius to Fahrenheit.\n",
        "def c_to_f(celsius):\n",
        "    return (celsius * 9/5) + 32\n",
        "temperatures_celsius = [0, 20, 37, 100, -40]\n",
        "temperatures_fahrenheit = list(map(c_to_f, temperatures_celsius))\n",
        "print(\"Temperatures in Fahrenheit:\", temperatures_fahrenheit)\n"
      ],
      "metadata": {
        "colab": {
          "base_uri": "https://localhost:8080/"
        },
        "id": "X579tNkPCg_M",
        "outputId": "385155da-7cd4-4379-88c5-244e764bb499"
      },
      "execution_count": 87,
      "outputs": [
        {
          "output_type": "stream",
          "name": "stdout",
          "text": [
            "Temperatures in Fahrenheit: [32.0, 68.0, 98.6, 212.0, -40.0]\n"
          ]
        }
      ]
    },
    {
      "cell_type": "code",
      "source": [
        "#Create a Python program that uses `filter()` to remove all the vowels from a given string.\n",
        "def remove_vowels(string):\n",
        "    return \" \".join(filter(lambda char: char.lower() not in 'aeiou', string))\n",
        "input_string = \"Hello akanksha!\"\n",
        "filtered_string = remove_vowels(input_string)\n",
        "print(\"String without vowels:\", filtered_string)"
      ],
      "metadata": {
        "colab": {
          "base_uri": "https://localhost:8080/"
        },
        "id": "OzpeJpg0DEc6",
        "outputId": "014ff51c-759d-4531-f084-5a5e4d3b3a82"
      },
      "execution_count": 92,
      "outputs": [
        {
          "output_type": "stream",
          "name": "stdout",
          "text": [
            "String without vowels: H l l   k n k s h !\n"
          ]
        }
      ]
    },
    {
      "cell_type": "code",
      "source": [
        "#Imagine an accounting routine used in a book shop. It works on a list with sublists, which look like this:\n",
        "orders = [\n",
        "    [34587, 40.95, 4],\n",
        "    [98762, 56.80, 5],\n",
        "    [77226, 32.95, 3],\n",
        "    [88112, 24.99, 3]\n",
        "]\n",
        "processed_orders = list(map(lambda order: (order[0], order[1] * order[2] + (10 if order[1] * order[2] < 100 else 0)), orders))\n",
        "print(processed_orders)"
      ],
      "metadata": {
        "colab": {
          "base_uri": "https://localhost:8080/"
        },
        "id": "OGXjyRbnEAEB",
        "outputId": "d3d2c373-6b58-4e37-a9c2-6fe965a0bc07"
      },
      "execution_count": 98,
      "outputs": [
        {
          "output_type": "stream",
          "name": "stdout",
          "text": [
            "[(34587, 163.8), (98762, 284.0), (77226, 108.85000000000001), (88112, 84.97)]\n"
          ]
        }
      ]
    }
  ]
}